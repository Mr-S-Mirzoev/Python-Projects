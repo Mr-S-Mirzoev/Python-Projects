{
  "nbformat": 4,
  "nbformat_minor": 0,
  "metadata": {
    "colab": {
      "name": "Barrier_Newton.ipynb",
      "provenance": [],
      "collapsed_sections": []
    },
    "kernelspec": {
      "name": "python3",
      "display_name": "Python 3"
    },
    "language_info": {
      "name": "python"
    }
  },
  "cells": [
    {
      "cell_type": "markdown",
      "metadata": {
        "id": "w3WsWrl0myjK"
      },
      "source": [
        "# Метод Ньютона"
      ]
    },
    {
      "cell_type": "code",
      "metadata": {
        "id": "aTU6BIiUetOv"
      },
      "source": [
        "from sympy import diff, hessian, symbols, Abs, Max\n",
        "from numpy import matrix,squeeze,asarray, set_printoptions\n",
        "from numpy.linalg import inv\n",
        "\n",
        "set_printoptions(precision=3, suppress=True)\n",
        "\n",
        "global epsilon\n",
        "epsilon = 1E-5\n",
        "\n",
        "def fValue(f, x0, syms):\n",
        "    length = range(0, len(x0))\n",
        "    return f.subs([(syms[i], x0[i]) for i in length]) \n",
        "\n",
        "def gradValue(gradF, x0, syms):\n",
        "    length = range(0, len(x0))\n",
        "    gradAsList = [gradF[j].subs([(syms[i], x0[i]) for i in length]) for j in length]\n",
        "    return matrix(gradAsList, 'float')\n",
        "\n",
        "def hessianValue(hessF, x0, syms):\n",
        "    lQ = range(0, len(hessF))\n",
        "    lX = range(0, len(x0))\n",
        "    a = matrix([hessF[j].subs([(syms[i], x0[i]) for i in lX]) for j in lQ], 'float')\n",
        "    size = int(len(hessF) ** 0.5)\n",
        "    return matrix(a.reshape(size, size))"
      ],
      "execution_count": 1,
      "outputs": []
    },
    {
      "cell_type": "code",
      "metadata": {
        "id": "uVKS9vuOOiCh"
      },
      "source": [
        "class NewtonOptimizer:\n",
        "    def __init__(self, f, x0, syms):\n",
        "        \"\"\"\n",
        "        f     = function representation (sympy)\n",
        "        x0    = Initial guess of the optimizer\n",
        "        syms  = variables on which f depend\n",
        "        \"\"\"\n",
        "        self._name = \"Newton's unrestrained optimiztion\"\n",
        "        self._f = f\n",
        "        self._x = x0\n",
        "        self._syms = syms\n",
        "\n",
        "    def __repr__(self):\n",
        "        \"\"\"\n",
        "        Description : Prints the minimizer of the function on the screen\n",
        "        \n",
        "        Inputs: \n",
        "               f  = symbolic representation of the function to be minimized\n",
        "               x0 = Initial guess of the minimizer\n",
        "        \"\"\"\n",
        "        return_string  = \"\\n\" + \"=\" * 20 + self._name + \"=\" * 20\n",
        "        return_string += \"\\n\" + \"Function to be optimized:\" + f\"{self._f}\" + \"\\n\" * 2\n",
        "        return_string += f\"Optimal parameter is: {self._x}\" + \"\\n\" * 2\n",
        "        return_string += f\"The optimal value of f is: %.3f\" % fValue(self._f, self._x, self._syms)\n",
        "        return_string += \"\\n\" * 2 + \"=\" * (40 + len(self._name))\n",
        "        return return_string\n",
        "\n",
        "    def optimize(self):\n",
        "        gradF = [self._f.diff(x) for x in self._syms]\n",
        "        hessianF = hessian(self._f, self._syms)\n",
        "        while (True):\n",
        "            g0 = gradValue(gradF, self._x, self._syms)\n",
        "            if (all(abs(i) < epsilon for i in squeeze(asarray(g0,'float')))): \n",
        "                return self._x, fValue(self._f, self._x, self._syms)\n",
        "            F0 = hessianValue(hessianF, self._x, self._syms)\n",
        "            self._x -= squeeze(asarray((inv(F0) * g0.transpose()).transpose()))"
      ],
      "execution_count": 2,
      "outputs": []
    },
    {
      "cell_type": "code",
      "metadata": {
        "id": "ObjnjRUAesiH"
      },
      "source": [
        "x, y = symbols('x y')\n",
        "syms = [x, y]"
      ],
      "execution_count": 3,
      "outputs": []
    },
    {
      "cell_type": "code",
      "metadata": {
        "id": "zulWixkPhF9p"
      },
      "source": [
        "f_rosenbrock = (1 + x)**2 + 100*(y - x**2)**2"
      ],
      "execution_count": 4,
      "outputs": []
    },
    {
      "cell_type": "code",
      "metadata": {
        "colab": {
          "base_uri": "https://localhost:8080/"
        },
        "id": "_LnrhTu3hLQ3",
        "outputId": "762e7021-b908-43d5-e331-0aeacaaf15aa"
      },
      "source": [
        "optimizer = NewtonOptimizer(f_rosenbrock, [0, 0], syms)\n",
        "x_opt, f_opt = optimizer.optimize()\n",
        "x_opt"
      ],
      "execution_count": 5,
      "outputs": [
        {
          "output_type": "execute_result",
          "data": {
            "text/plain": [
              "array([-1.,  1.])"
            ]
          },
          "metadata": {},
          "execution_count": 5
        }
      ]
    },
    {
      "cell_type": "code",
      "metadata": {
        "colab": {
          "base_uri": "https://localhost:8080/",
          "height": 37
        },
        "id": "1vo6lZLSs2q4",
        "outputId": "5fa33468-8c56-44aa-e364-ad8897d587ef"
      },
      "source": [
        "f_opt"
      ],
      "execution_count": 6,
      "outputs": [
        {
          "output_type": "execute_result",
          "data": {
            "text/latex": "$\\displaystyle 4.93038065763132 \\cdot 10^{-30}$",
            "text/plain": [
              "4.93038065763132e-30"
            ]
          },
          "metadata": {},
          "execution_count": 6
        }
      ]
    },
    {
      "cell_type": "code",
      "metadata": {
        "colab": {
          "base_uri": "https://localhost:8080/"
        },
        "id": "QJ-71bbVs0pu",
        "outputId": "b4b03bf5-1739-4181-dd30-9d460e753ba4"
      },
      "source": [
        "optimizer"
      ],
      "execution_count": 7,
      "outputs": [
        {
          "output_type": "execute_result",
          "data": {
            "text/plain": [
              "\n",
              "====================Newton's unrestrained optimiztion====================\n",
              "Function to be optimized:(x + 1)**2 + 100*(-x**2 + y)**2\n",
              "\n",
              "Optimal parameter is: [-1.  1.]\n",
              "\n",
              "The optimal value of f is: 0.000\n",
              "\n",
              "========================================================================="
            ]
          },
          "metadata": {},
          "execution_count": 7
        }
      ]
    },
    {
      "cell_type": "markdown",
      "metadata": {
        "id": "n-jWOMhzm3qH"
      },
      "source": [
        "# Метод барьерных функций"
      ]
    },
    {
      "cell_type": "markdown",
      "metadata": {
        "id": "vlTftsOLovMk"
      },
      "source": [
        "**Пусть имеется следующая задача:**\n",
        "\n",
        "Минимизировать $f(x)$ при ограничениях $g_i(x)\\ge0,h_i(x)=0$ , где функции $f,g_i,h_i$.\n",
        "\n",
        "Начальный этап Выбрать $\\epsilon>0$ Выбрать начальную точку $x^1$, параметр штрафа $r_1$ и число $\\beta>1$. Положить $k=1$ и перейти к основному этапу.\n",
        "\n",
        "**Основной этап. k-я итерация.**\n",
        "\n",
        "**Первый шаг.** При начальной точке $x_k$ и параметре штрафа $r_k$ решить следующую задачу:\n",
        "\n",
        "минимизировать\n",
        "\n",
        "$f(x)+r_k\\alpha(x)=f(x)+r_k\\left[\\sum_{i=1}^{m}(max\\{0,-g_i(x)\\})^p+ \\sum_{i=m+1}^{l}|h_i(x)|^p\\right]$ , где\n",
        "$p>0$ , $p$ - целое.\n",
        "\n",
        "Положить $x_{k+1}$ равным оптимальному решению задачи и перейти ко второму шагу.\n",
        "\n",
        "**Второй шаг**\n",
        "\n",
        "Если $r_k\\alpha(x_{k+1})<\\epsilon$, то остановиться.\n",
        "\n",
        "В противном случае положить $r_{k+1}=\\beta r_k$. Заменить $k$ на $k+1$ и перейти к первому шагу."
      ]
    },
    {
      "cell_type": "code",
      "metadata": {
        "id": "s6nJV8rUosv7"
      },
      "source": [
        "class BarrierOptimizer:\n",
        "    def __init__(self, f, gs, hs, x0, syms, eps = 0.01, r0 = 1., beta = 1.1, p = 2):\n",
        "        self._name = \"Barrier functions constrained optimization\"\n",
        "        self._eps = eps\n",
        "        self._penalty = r0\n",
        "        self._beta = beta\n",
        "        self._p = p\n",
        "\n",
        "        self._f = f\n",
        "        self._gs = gs\n",
        "        self._hs = hs\n",
        "        self._x = x0\n",
        "        self._syms = syms\n",
        "\n",
        "    def __repr__(self):\n",
        "        return_string  = \"\\n\" + \"=\" * 20 + self._name + \"=\" * 20\n",
        "\n",
        "        return_string += \"\\n\" + \"Function to be optimized: \" + f\"{self._f}\" + \"\\n\" * 2\n",
        "        return_string += \"Constraints:\" + \"\\n\"\n",
        "        for g in self._gs:\n",
        "            return_string += f\"{g}>0\" + \"\\n\"\n",
        "        for g in self._hs:\n",
        "            return_string += f\"{h}=0\" + \"\\n\"\n",
        "        return_string += \"\\n\" * 2 + f\"The optimal point: {self._x}\" + \"\\n\"\n",
        "        return_string += f\"The optimal value: {fValue(self._f, self._x, self._syms):.3f}\"\n",
        "        return_string += \"\\n\" * 2 + \"=\" * (40 + len(self._name)) + \"\\n\"\n",
        "        \n",
        "        return return_string\n",
        "        \n",
        "\n",
        "    def optimize(self):\n",
        "        flag = False\n",
        "        i = 0\n",
        "\n",
        "        return_string  = \"\\n\" + \"=\" * 20 + self._name + \"=\" * 20\n",
        "\n",
        "        return_string += \"\\n\" + \"Function to be optimized: \" + f\"{self._f}\" + \"\\n\" \n",
        "        return_string += f\"The initial value: {self._x}\" + \"\\n\" * 2\n",
        "        return_string += \"Constraints:\" + \"\\n\"\n",
        "        for g in self._gs:\n",
        "            return_string += f\"{g}>0\" + \"\\n\"\n",
        "        for g in self._hs:\n",
        "            return_string += f\"{h}=0\" + \"\\n\"\n",
        "\n",
        "        return_string += \"\\n\" * 2 + \"Training:\"\n",
        "        print(return_string)\n",
        "\n",
        "        while flag is False:\n",
        "            alpha = 0\n",
        "\n",
        "            for g in self._gs:\n",
        "                alpha += Max(0, -g) ** self._p\n",
        "\n",
        "            for h in self._hs:\n",
        "                alpha += Abs(h) ** self._p\n",
        "\n",
        "            f = self._f + self._penalty * alpha\n",
        "\n",
        "            optimizer = NewtonOptimizer(f, self._x, self._syms)\n",
        "            self._x, f_opt = optimizer.optimize()\n",
        "\n",
        "            if self._penalty * fValue(alpha, self._x, self._syms) < self._eps:\n",
        "                flag = True\n",
        "            else:\n",
        "                self._penalty *= self._beta\n",
        "\n",
        "            print(f\"\\tIteration {i}: x = {self._x} f = {f_opt:.3f}\")\n",
        "            i += 1\n",
        "\n",
        "        print(\"\\n\" * 2 + \"=\" * (40 + len(self._name)))\n",
        "\n",
        "        return self._x, f_opt"
      ],
      "execution_count": 8,
      "outputs": []
    },
    {
      "cell_type": "code",
      "metadata": {
        "id": "aFmE6Bmzt_sq"
      },
      "source": [
        "x_1, x_2, x_3, x_4 = symbols('x_1 x_2 x_3 x_4')\n",
        "syms = [x_1, x_2, x_3, x_4]\n",
        "\n",
        "f = x_1 ** 2 + x_2 ** 2 + 2 * x_3 ** 2 + x_4 ** 2 - 5 * x_1 - 5 * x_2 - 21 * x_3 + 7 * x_4\n",
        "g1 = 8 - x_1 ** 2 - x_2 ** 2 - x_3 ** 2 - x_4 ** 2 - x_1 + x_2 - x_3 + x_4\n",
        "g2 = 10 - x_1 ** 2 - 2 * x_2 ** 2 - x_3 ** 2 - 2 * x_4 ** 2 + x_1 - x_4\n",
        "g3 = 5 - 2 * x_1 ** 2 - x_2 ** 2 - x_3 ** 2 - 2 * x_1 + x_2 + x_4\n",
        "g = [g1, g2, g3]\n",
        "\n",
        "bo = BarrierOptimizer(f, g, [], (0, 0, 0, 0), syms)"
      ],
      "execution_count": 9,
      "outputs": []
    },
    {
      "cell_type": "code",
      "metadata": {
        "colab": {
          "base_uri": "https://localhost:8080/"
        },
        "id": "vq0Eeww7vo_e",
        "outputId": "80b869ec-535f-4d4f-a512-46911cb5af14"
      },
      "source": [
        "print(*syms)"
      ],
      "execution_count": 10,
      "outputs": [
        {
          "output_type": "stream",
          "name": "stdout",
          "text": [
            "x_1 x_2 x_3 x_4\n"
          ]
        }
      ]
    },
    {
      "cell_type": "code",
      "metadata": {
        "colab": {
          "base_uri": "https://localhost:8080/"
        },
        "id": "m65lsJ6ovIHf",
        "outputId": "31d6d4b6-cf66-40e4-b4a2-a64842abd35e"
      },
      "source": [
        "x_opt, y_opt = bo.optimize()"
      ],
      "execution_count": 11,
      "outputs": [
        {
          "output_type": "stream",
          "name": "stdout",
          "text": [
            "\n",
            "====================Barrier functions constrained optimization====================\n",
            "Function to be optimized: x_1**2 - 5*x_1 + x_2**2 - 5*x_2 + 2*x_3**2 - 21*x_3 + x_4**2 + 7*x_4\n",
            "The initial value: (0, 0, 0, 0)\n",
            "\n",
            "Constraints:\n",
            "-x_1**2 - x_1 - x_2**2 + x_2 - x_3**2 - x_3 - x_4**2 + x_4 + 8>0\n",
            "-x_1**2 + x_1 - 2*x_2**2 - x_3**2 - 2*x_4**2 - x_4 + 10>0\n",
            "-2*x_1**2 - 2*x_1 - x_2**2 + x_2 - x_3**2 + x_4 + 5>0\n",
            "\n",
            "\n",
            "Training:\n",
            "\tIteration 0: x = [ 0.094  1.047  2.118 -0.959] f = -45.007\n",
            "\tIteration 1: x = [ 0.089  1.044  2.11  -0.956] f = -44.926\n",
            "\tIteration 2: x = [ 0.084  1.041  2.102 -0.954] f = -44.851\n",
            "\tIteration 3: x = [ 0.079  1.038  2.095 -0.953] f = -44.782\n",
            "\tIteration 4: x = [ 0.074  1.036  2.088 -0.952] f = -44.718\n",
            "\tIteration 5: x = [ 0.07   1.034  2.082 -0.952] f = -44.659\n",
            "\tIteration 6: x = [ 0.066  1.031  2.076 -0.952] f = -44.605\n",
            "\tIteration 7: x = [ 0.062  1.029  2.07  -0.952] f = -44.555\n",
            "\tIteration 8: x = [ 0.058  1.027  2.065 -0.953] f = -44.509\n",
            "\tIteration 9: x = [ 0.054  1.026  2.061 -0.954] f = -44.467\n",
            "\tIteration 10: x = [ 0.051  1.024  2.056 -0.955] f = -44.428\n",
            "\tIteration 11: x = [ 0.047  1.022  2.052 -0.957] f = -44.392\n",
            "\tIteration 12: x = [ 0.044  1.021  2.048 -0.958] f = -44.359\n",
            "\tIteration 13: x = [ 0.041  1.019  2.044 -0.96 ] f = -44.329\n",
            "\tIteration 14: x = [ 0.038  1.018  2.041 -0.962] f = -44.301\n",
            "\tIteration 15: x = [ 0.036  1.017  2.038 -0.964] f = -44.275\n",
            "\tIteration 16: x = [ 0.033  1.015  2.035 -0.965] f = -44.252\n",
            "\tIteration 17: x = [ 0.03   1.014  2.032 -0.967] f = -44.230\n",
            "\tIteration 18: x = [ 0.028  1.013  2.03  -0.969] f = -44.210\n",
            "\tIteration 19: x = [ 0.026  1.012  2.027 -0.971] f = -44.192\n",
            "\tIteration 20: x = [ 0.024  1.011  2.025 -0.973] f = -44.176\n",
            "\tIteration 21: x = [ 0.022  1.01   2.023 -0.975] f = -44.160\n",
            "\tIteration 22: x = [ 0.02   1.009  2.021 -0.976] f = -44.146\n",
            "\tIteration 23: x = [ 0.019  1.009  2.02  -0.978] f = -44.134\n",
            "\tIteration 24: x = [ 0.017  1.008  2.018 -0.98 ] f = -44.122\n",
            "\tIteration 25: x = [ 0.016  1.007  2.016 -0.981] f = -44.111\n",
            "\tIteration 26: x = [ 0.014  1.007  2.015 -0.982] f = -44.101\n",
            "\tIteration 27: x = [ 0.013  1.006  2.014 -0.984] f = -44.092\n",
            "\tIteration 28: x = [ 0.012  1.006  2.013 -0.985] f = -44.084\n",
            "\tIteration 29: x = [ 0.011  1.005  2.012 -0.986] f = -44.077\n",
            "\tIteration 30: x = [ 0.01   1.005  2.011 -0.987] f = -44.070\n",
            "\tIteration 31: x = [ 0.009  1.004  2.01  -0.988] f = -44.064\n",
            "\tIteration 32: x = [ 0.008  1.004  2.009 -0.989] f = -44.058\n",
            "\tIteration 33: x = [ 0.008  1.004  2.008 -0.99 ] f = -44.053\n",
            "\tIteration 34: x = [ 0.007  1.003  2.007 -0.991] f = -44.048\n",
            "\tIteration 35: x = [ 0.006  1.003  2.007 -0.992] f = -44.044\n",
            "\tIteration 36: x = [ 0.006  1.003  2.006 -0.992] f = -44.040\n",
            "\tIteration 37: x = [ 0.005  1.003  2.006 -0.993] f = -44.036\n",
            "\tIteration 38: x = [ 0.005  1.002  2.005 -0.994] f = -44.033\n",
            "\tIteration 39: x = [ 0.004  1.002  2.005 -0.994] f = -44.030\n",
            "\tIteration 40: x = [ 0.004  1.002  2.004 -0.995] f = -44.027\n",
            "\tIteration 41: x = [ 0.004  1.002  2.004 -0.995] f = -44.025\n",
            "\tIteration 42: x = [ 0.003  1.002  2.004 -0.996] f = -44.023\n",
            "\tIteration 43: x = [ 0.003  1.001  2.003 -0.996] f = -44.021\n",
            "\tIteration 44: x = [ 0.003  1.001  2.003 -0.996] f = -44.019\n",
            "\tIteration 45: x = [ 0.003  1.001  2.003 -0.997] f = -44.017\n",
            "\tIteration 46: x = [ 0.002  1.001  2.002 -0.997] f = -44.016\n",
            "\tIteration 47: x = [ 0.002  1.001  2.002 -0.997] f = -44.014\n",
            "\tIteration 48: x = [ 0.002  1.001  2.002 -0.997] f = -44.013\n",
            "\tIteration 49: x = [ 0.002  1.001  2.002 -0.998] f = -44.012\n",
            "\tIteration 50: x = [ 0.002  1.001  2.002 -0.998] f = -44.011\n",
            "\tIteration 51: x = [ 0.001  1.001  2.002 -0.998] f = -44.010\n",
            "\n",
            "\n",
            "==================================================================================\n"
          ]
        }
      ]
    },
    {
      "cell_type": "code",
      "metadata": {
        "colab": {
          "base_uri": "https://localhost:8080/"
        },
        "id": "WIHM5vgkvNCL",
        "outputId": "1ff36dee-2866-49d0-9482-93528db7a35b"
      },
      "source": [
        "bo"
      ],
      "execution_count": 12,
      "outputs": [
        {
          "output_type": "execute_result",
          "data": {
            "text/plain": [
              "\n",
              "====================Barrier functions constrained optimization====================\n",
              "Function to be optimized: x_1**2 - 5*x_1 + x_2**2 - 5*x_2 + 2*x_3**2 - 21*x_3 + x_4**2 + 7*x_4\n",
              "\n",
              "Constraints:\n",
              "-x_1**2 - x_1 - x_2**2 + x_2 - x_3**2 - x_3 - x_4**2 + x_4 + 8>0\n",
              "-x_1**2 + x_1 - 2*x_2**2 - x_3**2 - 2*x_4**2 - x_4 + 10>0\n",
              "-2*x_1**2 - 2*x_1 - x_2**2 + x_2 - x_3**2 + x_4 + 5>0\n",
              "\n",
              "\n",
              "The optimal point: [ 0.001  1.001  2.002 -0.998]\n",
              "The optimal value: -44.019\n",
              "\n",
              "=================================================================================="
            ]
          },
          "metadata": {},
          "execution_count": 12
        }
      ]
    }
  ]
}